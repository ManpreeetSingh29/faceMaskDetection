{
 "cells": [
  {
   "cell_type": "code",
   "execution_count": 16,
   "metadata": {},
   "outputs": [],
   "source": [
    "import os\n",
    "import warnings\n",
    "import matplotlib\n",
    "import matplotlib.pyplot as plt\n",
    "import numpy as np\n",
    "import pandas as pd\n",
    "from skimage.io import imread,imshow\n",
    "from skimage.transform import resize\n",
    "from skimage.color import rgb2grey\n",
    "from sklearn.utils import shuffle\n",
    "from skimage import feature\n",
    "import cv2"
   ]
  },
  {
   "cell_type": "code",
   "execution_count": 26,
   "metadata": {},
   "outputs": [],
   "source": [
    "path = [r\"dataset/train/with_mask\",r\"dataset/train/without_mask\"]\n",
    "mask_img = []\n",
    "nomask_img = []\n",
    "\n",
    "for folder in os.listdir(path[0]):\n",
    "    directory = os.path.join(path[0], folder)\n",
    "    \n",
    "    for img_path in os.listdir(directory):\n",
    "        pth = os.path.join(directory, img_path)\n",
    "        img = cv2.imread(pth,0)\n",
    "        img = cv2.resize(img, (32,32))\n",
    "        mask_img.append(img)\n",
    "\n",
    "for folder in os.listdir(path[1]):\n",
    "    directory = os.path.join(path[1], folder)\n",
    "    \n",
    "    for img_path in os.listdir(directory):\n",
    "        pth = os.path.join(directory, img_path)\n",
    "        img = cv2.imread(pth,0)\n",
    "        img = cv2.resize(img, (32,32))\n",
    "        nomask_img.append(img)"
   ]
  },
  {
   "cell_type": "code",
   "execution_count": 27,
   "metadata": {},
   "outputs": [
    {
     "name": "stdout",
     "output_type": "stream",
     "text": [
      "1892\n"
     ]
    }
   ],
   "source": [
    "cv2.imshow(\"image\",mask_img[0])\n",
    "nMask = len(mask_img)\n",
    "nNoMask = len(nomask_img)\n",
    "\n",
    "if nMask < nNoMask:\n",
    "    nImages = nMask\n",
    "else:\n",
    "    nImages = nNoMask\n",
    "\n",
    "print(nImages)"
   ]
  },
  {
   "cell_type": "code",
   "execution_count": 25,
   "metadata": {},
   "outputs": [
    {
     "ename": "NameError",
     "evalue": "name 'nomask_data' is not defined",
     "output_type": "error",
     "traceback": [
      "\u001b[1;31m---------------------------------------------------------------------------\u001b[0m",
      "\u001b[1;31mNameError\u001b[0m                                 Traceback (most recent call last)",
      "\u001b[1;32m<ipython-input-25-585ccf2f2d7e>\u001b[0m in \u001b[0;36m<module>\u001b[1;34m\u001b[0m\n\u001b[0;32m     23\u001b[0m \u001b[1;33m\u001b[0m\u001b[0m\n\u001b[0;32m     24\u001b[0m \u001b[0mmaskData\u001b[0m   \u001b[1;33m=\u001b[0m \u001b[0mpd\u001b[0m\u001b[1;33m.\u001b[0m\u001b[0mDataFrame\u001b[0m\u001b[1;33m(\u001b[0m\u001b[0mmask_img\u001b[0m\u001b[1;33m)\u001b[0m\u001b[1;33m\u001b[0m\u001b[1;33m\u001b[0m\u001b[0m\n\u001b[1;32m---> 25\u001b[1;33m \u001b[0mnomaskData\u001b[0m \u001b[1;33m=\u001b[0m \u001b[0mpd\u001b[0m\u001b[1;33m.\u001b[0m\u001b[0mDataFrame\u001b[0m\u001b[1;33m(\u001b[0m\u001b[0mnomask_data\u001b[0m\u001b[1;33m)\u001b[0m\u001b[1;33m\u001b[0m\u001b[1;33m\u001b[0m\u001b[0m\n\u001b[0m\u001b[0;32m     26\u001b[0m \u001b[1;33m\u001b[0m\u001b[0m\n\u001b[0;32m     27\u001b[0m \u001b[0mmaskData\u001b[0m\u001b[1;33m[\u001b[0m\u001b[1;34m\"label\"\u001b[0m\u001b[1;33m]\u001b[0m   \u001b[1;33m=\u001b[0m \u001b[1;34m\"MASK\"\u001b[0m\u001b[1;33m\u001b[0m\u001b[1;33m\u001b[0m\u001b[0m\n",
      "\u001b[1;31mNameError\u001b[0m: name 'nomask_data' is not defined"
     ]
    }
   ],
   "source": [
    "nCol = mask_img[0].shape[0] * mask_img[0].shape[1]\n",
    "\n",
    "#dimensions of images are (x * y) right now,\n",
    "#need to convert it into array of xy*1\n",
    "#basically flattening the 40 by 40 matrix into a 1600 by 1 matrix\n",
    "#putting all the rows together in a single row\n",
    "\n",
    "for i in range(nImages):\n",
    "    mask_img[i]     = np.ndarray.flatten(mask_img[i]).reshape(nCol,1)\n",
    "    nomask_img[i]   = np.ndarray.flatten(nomask_img[i])\n",
    "    \n",
    "    mask_img[i]     = np.transpose(mask_img[i])\n",
    "    nomask_img[i]   = np.transpose(nomask_img[i])\n",
    "    \n",
    "mask_img   = np.dstack(mask_img)\n",
    "nomask_img = np.dstack(mask_img)\n",
    "\n",
    "mask_img   = np.rollaxis(mask_img, axis = 2, start = 0)\n",
    "nomask_img = np.rollaxis(nomask_img, axis = 2, start = 0)\n",
    "\n",
    "mask_img   = mask_img.reshape(nImages, nCol)\n",
    "nomask_img = nomask_img.reshape(nImages, nCol)\n",
    "\n",
    "maskData   = pd.DataFrame(mask_img)\n",
    "nomaskData = pd.DataFrame(nomask_img)\n",
    "\n",
    "maskData[\"label\"]   = \"MASK\"\n",
    "nomaskData[\"label\"] = \"NOMASK\"\n",
    "\n",
    "totalData = pd.concat([maskData, nomaskData])\n",
    "\n",
    "output = shuffle(totalData).reset_index()\n",
    "out    = out.drop(['index'], axis=1)\n",
    "\n",
    "x = out.values[:,-1]\n",
    "y = out.values[-1]"
   ]
  },
  {
   "cell_type": "code",
   "execution_count": null,
   "metadata": {},
   "outputs": [],
   "source": []
  }
 ],
 "metadata": {
  "kernelspec": {
   "display_name": "Python 3",
   "language": "python",
   "name": "python3"
  },
  "language_info": {
   "codemirror_mode": {
    "name": "ipython",
    "version": 3
   },
   "file_extension": ".py",
   "mimetype": "text/x-python",
   "name": "python",
   "nbconvert_exporter": "python",
   "pygments_lexer": "ipython3",
   "version": "3.8.3"
  }
 },
 "nbformat": 4,
 "nbformat_minor": 4
}
